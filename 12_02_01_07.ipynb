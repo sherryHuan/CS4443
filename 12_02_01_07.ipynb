{
  "nbformat": 4,
  "nbformat_minor": 0,
  "metadata": {
    "kernelspec": {
      "display_name": "Python 3",
      "language": "python",
      "name": "python3"
    },
    "language_info": {
      "codemirror_mode": {
        "name": "ipython",
        "version": 3
      },
      "file_extension": ".py",
      "mimetype": "text/x-python",
      "name": "python",
      "nbconvert_exporter": "python",
      "pygments_lexer": "ipython3",
      "version": "3.7.3"
    },
    "colab": {
      "name": "12_02.01-07.ipynb",
      "provenance": [],
      "include_colab_link": true
    }
  },
  "cells": [
    {
      "cell_type": "markdown",
      "metadata": {
        "id": "view-in-github",
        "colab_type": "text"
      },
      "source": [
        "<a href=\"https://colab.research.google.com/github/sherryHuan/CS4443/blob/main/12_02_01_07.ipynb\" target=\"_parent\"><img src=\"https://colab.research.google.com/assets/colab-badge.svg\" alt=\"Open In Colab\"/></a>"
      ]
    },
    {
      "cell_type": "markdown",
      "metadata": {
        "id": "gFAIOc8ZpZ9c"
      },
      "source": [
        "**_Note: This notebook contains ALL the code for Sections 12.2.12.2.7_**"
      ]
    },
    {
      "cell_type": "markdown",
      "metadata": {
        "id": "CsiSh34IpZ9o"
      },
      "source": [
        "## 12.2.1 Create a TextBlob"
      ]
    },
    {
      "cell_type": "code",
      "metadata": {
        "id": "woESaCsopZ9p"
      },
      "source": [
        "from textblob import TextBlob"
      ],
      "execution_count": 67,
      "outputs": []
    },
    {
      "cell_type": "code",
      "metadata": {
        "id": "8zsXtZlGpZ9r"
      },
      "source": [
        "text = 'Today is a beautiful day. Tomorrow looks like bad weather.'"
      ],
      "execution_count": 68,
      "outputs": []
    },
    {
      "cell_type": "code",
      "metadata": {
        "id": "SKh4vNAEpZ9r"
      },
      "source": [
        "blob = TextBlob(text)"
      ],
      "execution_count": 69,
      "outputs": []
    },
    {
      "cell_type": "code",
      "metadata": {
        "id": "uKZLbvFhpZ9s",
        "colab": {
          "base_uri": "https://localhost:8080/"
        },
        "outputId": "6d11eed3-e784-4246-e87e-4f69535970ef"
      },
      "source": [
        "blob"
      ],
      "execution_count": 70,
      "outputs": [
        {
          "output_type": "execute_result",
          "data": {
            "text/plain": [
              "TextBlob(\"Today is a beautiful day. Tomorrow looks like bad weather.\")"
            ]
          },
          "metadata": {
            "tags": []
          },
          "execution_count": 70
        }
      ]
    },
    {
      "cell_type": "markdown",
      "metadata": {
        "id": "CWwaMaVFpZ9s"
      },
      "source": [
        "### `TextBlob`, `Sentence`s and `Word`s Support String Methods and Comparisons \n",
        "* `Sentence`s, `Word`s and `TextBlob`s inherit from **`BaseBlob`**, which defines many common methods and properties\n",
        "* [**`BaseBlob` documentation**](https://textblob.readthedocs.io/en/dev/api_reference.html)"
      ]
    },
    {
      "cell_type": "markdown",
      "metadata": {
        "id": "WT-SoMXOpZ9t"
      },
      "source": [
        "## 12.2.2 Tokenizing Text into Sentences and Words\n",
        "* Getting a list of sentences"
      ]
    },
    {
      "cell_type": "code",
      "metadata": {
        "id": "F68FL_zZtkjd"
      },
      "source": [
        "import nltk"
      ],
      "execution_count": 71,
      "outputs": []
    },
    {
      "cell_type": "code",
      "metadata": {
        "colab": {
          "base_uri": "https://localhost:8080/"
        },
        "id": "w00enxbUtl5H",
        "outputId": "c81be04e-3732-4442-fe18-234837efd356"
      },
      "source": [
        "nltk.download('punkt')"
      ],
      "execution_count": 72,
      "outputs": [
        {
          "output_type": "stream",
          "text": [
            "[nltk_data] Downloading package punkt to /root/nltk_data...\n",
            "[nltk_data]   Package punkt is already up-to-date!\n"
          ],
          "name": "stdout"
        },
        {
          "output_type": "execute_result",
          "data": {
            "text/plain": [
              "True"
            ]
          },
          "metadata": {
            "tags": []
          },
          "execution_count": 72
        }
      ]
    },
    {
      "cell_type": "code",
      "metadata": {
        "id": "pVzLUzIbpZ9t",
        "colab": {
          "base_uri": "https://localhost:8080/"
        },
        "outputId": "639ace8e-e3cb-48db-d699-95c069271718"
      },
      "source": [
        "blob.sentences"
      ],
      "execution_count": 73,
      "outputs": [
        {
          "output_type": "execute_result",
          "data": {
            "text/plain": [
              "[Sentence(\"Today is a beautiful day.\"),\n",
              " Sentence(\"Tomorrow looks like bad weather.\")]"
            ]
          },
          "metadata": {
            "tags": []
          },
          "execution_count": 73
        }
      ]
    },
    {
      "cell_type": "markdown",
      "metadata": {
        "id": "DE-8nnIopZ9u"
      },
      "source": [
        "* A `WordList` is a subclass of Python’s **built-in list type** with additional NLP methods. \n",
        "* Contains TextBlob `Word` objects"
      ]
    },
    {
      "cell_type": "code",
      "metadata": {
        "id": "LTXAZNUbpZ9u",
        "colab": {
          "base_uri": "https://localhost:8080/"
        },
        "outputId": "e831c9ed-2021-4754-c6a2-f66718c6b71b"
      },
      "source": [
        "blob.words"
      ],
      "execution_count": 74,
      "outputs": [
        {
          "output_type": "execute_result",
          "data": {
            "text/plain": [
              "WordList(['Today', 'is', 'a', 'beautiful', 'day', 'Tomorrow', 'looks', 'like', 'bad', 'weather'])"
            ]
          },
          "metadata": {
            "tags": []
          },
          "execution_count": 74
        }
      ]
    },
    {
      "cell_type": "markdown",
      "metadata": {
        "id": "EAc9J5dWpZ9v"
      },
      "source": [
        "## 12.2.3 Parts-of-Speech Tagging\n",
        "\n",
        "* Evaluate words based on context to determine **parts of speech**, which can help determine meaning\n",
        "* Eight primary English parts of speech\n",
        "\t* **nouns**, **pronouns**, **verbs**, **adjectives**, **adverbs**, **prepositions**, **conjunctions** and **interjections** (words that express emotion and that are typically followed by **punctuation**, like “Yes!” or “Ha!”) \n",
        "    * Many subcategories \n",
        "* Some words have multiple meanings\n",
        "\t* E.g., “set” and “run” have **hundreds of meanings** each! "
      ]
    },
    {
      "cell_type": "code",
      "metadata": {
        "id": "69nEVk8gpZ9v",
        "colab": {
          "base_uri": "https://localhost:8080/"
        },
        "outputId": "7830c438-3945-4695-eca2-642295231a9e"
      },
      "source": [
        "blob"
      ],
      "execution_count": 75,
      "outputs": [
        {
          "output_type": "execute_result",
          "data": {
            "text/plain": [
              "TextBlob(\"Today is a beautiful day. Tomorrow looks like bad weather.\")"
            ]
          },
          "metadata": {
            "tags": []
          },
          "execution_count": 75
        }
      ]
    },
    {
      "cell_type": "code",
      "metadata": {
        "colab": {
          "base_uri": "https://localhost:8080/"
        },
        "id": "LOJpxgLRt7T6",
        "outputId": "a20e163f-b090-43df-f9fa-5057314fc2dd"
      },
      "source": [
        "import nltk\r\n",
        "nltk.download('averaged_perceptron_tagger')"
      ],
      "execution_count": 76,
      "outputs": [
        {
          "output_type": "stream",
          "text": [
            "[nltk_data] Downloading package averaged_perceptron_tagger to\n",
            "[nltk_data]     /root/nltk_data...\n",
            "[nltk_data]   Package averaged_perceptron_tagger is already up-to-\n",
            "[nltk_data]       date!\n"
          ],
          "name": "stdout"
        },
        {
          "output_type": "execute_result",
          "data": {
            "text/plain": [
              "True"
            ]
          },
          "metadata": {
            "tags": []
          },
          "execution_count": 76
        }
      ]
    },
    {
      "cell_type": "code",
      "metadata": {
        "id": "_AqmNIwXpZ9w",
        "colab": {
          "base_uri": "https://localhost:8080/"
        },
        "outputId": "b74ad465-4e49-4d14-f3d0-6ee28f2ba1ea"
      },
      "source": [
        "blob.tags"
      ],
      "execution_count": 77,
      "outputs": [
        {
          "output_type": "execute_result",
          "data": {
            "text/plain": [
              "[('Today', 'NN'),\n",
              " ('is', 'VBZ'),\n",
              " ('a', 'DT'),\n",
              " ('beautiful', 'JJ'),\n",
              " ('day', 'NN'),\n",
              " ('Tomorrow', 'NNP'),\n",
              " ('looks', 'VBZ'),\n",
              " ('like', 'IN'),\n",
              " ('bad', 'JJ'),\n",
              " ('weather', 'NN')]"
            ]
          },
          "metadata": {
            "tags": []
          },
          "execution_count": 77
        }
      ]
    },
    {
      "cell_type": "markdown",
      "metadata": {
        "id": "QZbY9kWvpZ9w"
      },
      "source": [
        "## 12.2.3 Parts-of-Speech Tagging (cont.)\n",
        "* `TextBlob` uses a `PatternTagger` to determine parts-of-speech\n",
        "* Uses [**pattern library**](https://www.clips.uantwerpen.be/pattern) POS tagging\n",
        "* Pattern's [63 parts-of-speech tags](https://www.clips.uantwerpen.be/pages/MBSP-tags`)\n",
        "* In preceding output:\n",
        "    * `NN`—a **singular noun** or **mass noun**\n",
        "    * `VBZ`—a [**third person singular present verb**](https://www.grammar.cl/Present/Verbs_Third_Person.htm)\n",
        "    * `DT`—a [**determiner**](https://en.wikipedia.org/wiki/Determiner) (the, an, that, this, my, their, etc.)\n",
        "    * `JJ`—an **adjective**\n",
        "    * `NNP`—a **proper singular noun**\n",
        "    * `IN`—a **subordinating conjunction** or **preposition**"
      ]
    },
    {
      "cell_type": "markdown",
      "metadata": {
        "id": "VUQb0C4lpZ9x"
      },
      "source": [
        "## 12.2.4 Extracting Noun Phrases\n",
        "* Preparing to purchase a **water ski**\n",
        "* Might search for **“best water ski”**—**“water ski”** is a **noun phrase** \n",
        "* For best results, search engine must parse the noun phrase properly \n",
        "* Try searching for **“best water,”** **“best ski”**,  **“water ski”** and **“best water ski”** and see what you get "
      ]
    },
    {
      "cell_type": "code",
      "metadata": {
        "id": "KTi9shVdpZ9x",
        "colab": {
          "base_uri": "https://localhost:8080/"
        },
        "outputId": "15a34a26-26b2-43c9-d310-8257afbdade3"
      },
      "source": [
        "blob"
      ],
      "execution_count": 78,
      "outputs": [
        {
          "output_type": "execute_result",
          "data": {
            "text/plain": [
              "TextBlob(\"Today is a beautiful day. Tomorrow looks like bad weather.\")"
            ]
          },
          "metadata": {
            "tags": []
          },
          "execution_count": 78
        }
      ]
    },
    {
      "cell_type": "code",
      "metadata": {
        "colab": {
          "base_uri": "https://localhost:8080/"
        },
        "id": "T6zl_uqguXc7",
        "outputId": "3eef3c86-d942-4801-9c17-19cee587170e"
      },
      "source": [
        "import nltk\r\n",
        "nltk.download('brown')"
      ],
      "execution_count": 79,
      "outputs": [
        {
          "output_type": "stream",
          "text": [
            "[nltk_data] Downloading package brown to /root/nltk_data...\n",
            "[nltk_data]   Package brown is already up-to-date!\n"
          ],
          "name": "stdout"
        },
        {
          "output_type": "execute_result",
          "data": {
            "text/plain": [
              "True"
            ]
          },
          "metadata": {
            "tags": []
          },
          "execution_count": 79
        }
      ]
    },
    {
      "cell_type": "code",
      "metadata": {
        "id": "0-Z9KwFapZ9x",
        "colab": {
          "base_uri": "https://localhost:8080/"
        },
        "outputId": "a30b1bad-e602-463e-d7f6-72e67cbfd0eb"
      },
      "source": [
        "blob.noun_phrases"
      ],
      "execution_count": 80,
      "outputs": [
        {
          "output_type": "execute_result",
          "data": {
            "text/plain": [
              "WordList(['beautiful day', 'tomorrow', 'bad weather'])"
            ]
          },
          "metadata": {
            "tags": []
          },
          "execution_count": 80
        }
      ]
    },
    {
      "cell_type": "markdown",
      "metadata": {
        "id": "SM9_6rJOpZ9x"
      },
      "source": [
        "* A **`Word`** can represent a noun phrase with **multiple words**. "
      ]
    },
    {
      "cell_type": "markdown",
      "metadata": {
        "id": "8HfVAV7TpZ9y"
      },
      "source": [
        "## 12.2.5 Sentiment Analysis with TextBlob’s Default Sentiment Analyzer\n",
        "* Determines whether text is **positive**, **neutral** or **negative**. \n",
        "* One of the most common and valuable NLP tasks (several later case studies do it) \n",
        "* Consider the **positive word “good”** and the **negative word “bad\"**\n",
        "    * Alone they are positive and negative, respectively, but...\n",
        "    * **The food is not good** — clearly has negative sentiment\n",
        "    * **The movie was not bad** — clearly has positive sentiment (but not as positive as **The movie was excellent!**)\n",
        "* Complex **machine-learning problem**, but libraries like TextBlob can do it for you"
      ]
    },
    {
      "cell_type": "markdown",
      "metadata": {
        "id": "Js_XkDZypZ9y"
      },
      "source": [
        "### Getting the Sentiment of a TextBlob"
      ]
    },
    {
      "cell_type": "code",
      "metadata": {
        "id": "K_lOvn9KpZ9y",
        "colab": {
          "base_uri": "https://localhost:8080/"
        },
        "outputId": "dd14cfd9-6cd9-4a3d-df7d-0a7272b57cd8"
      },
      "source": [
        "blob"
      ],
      "execution_count": 81,
      "outputs": [
        {
          "output_type": "execute_result",
          "data": {
            "text/plain": [
              "TextBlob(\"Today is a beautiful day. Tomorrow looks like bad weather.\")"
            ]
          },
          "metadata": {
            "tags": []
          },
          "execution_count": 81
        }
      ]
    },
    {
      "cell_type": "code",
      "metadata": {
        "id": "koRA9PYYpZ9y",
        "colab": {
          "base_uri": "https://localhost:8080/"
        },
        "outputId": "d54a0641-641c-4fa8-a906-fefe9a7c1004"
      },
      "source": [
        "blob.sentiment"
      ],
      "execution_count": 82,
      "outputs": [
        {
          "output_type": "execute_result",
          "data": {
            "text/plain": [
              "Sentiment(polarity=0.07500000000000007, subjectivity=0.8333333333333333)"
            ]
          },
          "metadata": {
            "tags": []
          },
          "execution_count": 82
        }
      ]
    },
    {
      "cell_type": "markdown",
      "metadata": {
        "id": "3YfCx3RvpZ9z"
      },
      "source": [
        "* **`polarity`** is the **sentiment** — from **`-1.0` (negative)** to **`1.0` (positive)** with **`0.0`** being **neutral**. \n",
        "* **`subjectivity`** is a value from **0.0 (objective)** to **1.0 (subjective)**. "
      ]
    },
    {
      "cell_type": "markdown",
      "metadata": {
        "id": "ydzJgw7vpZ9z"
      },
      "source": [
        "### Getting the polarity and subjectivity from the Sentiment Object\n",
        "* **`%precision`** magic specifies the **default precision** for **standalone** `float` objects and `float` objects in **built-in types** like lists, dictionaries and tuples:"
      ]
    },
    {
      "cell_type": "code",
      "metadata": {
        "id": "YNEIiew3pZ9z",
        "colab": {
          "base_uri": "https://localhost:8080/",
          "height": 35
        },
        "outputId": "c6031774-0dc7-42cd-ef81-2e3d71c05554"
      },
      "source": [
        "%precision 3"
      ],
      "execution_count": 83,
      "outputs": [
        {
          "output_type": "execute_result",
          "data": {
            "application/vnd.google.colaboratory.intrinsic+json": {
              "type": "string"
            },
            "text/plain": [
              "'%.3f'"
            ]
          },
          "metadata": {
            "tags": []
          },
          "execution_count": 83
        }
      ]
    },
    {
      "cell_type": "code",
      "metadata": {
        "id": "jcPoZ_tIpZ9z",
        "colab": {
          "base_uri": "https://localhost:8080/"
        },
        "outputId": "65075abf-234c-4495-de97-5ba731b52969"
      },
      "source": [
        "blob.sentiment.polarity"
      ],
      "execution_count": 84,
      "outputs": [
        {
          "output_type": "execute_result",
          "data": {
            "text/plain": [
              "0.075"
            ]
          },
          "metadata": {
            "tags": []
          },
          "execution_count": 84
        }
      ]
    },
    {
      "cell_type": "code",
      "metadata": {
        "id": "jWMi3lpYpZ90",
        "colab": {
          "base_uri": "https://localhost:8080/"
        },
        "outputId": "8d8be523-2e2b-43ee-dea8-6a1c885aad2a"
      },
      "source": [
        "blob.sentiment.subjectivity"
      ],
      "execution_count": 85,
      "outputs": [
        {
          "output_type": "execute_result",
          "data": {
            "text/plain": [
              "0.833"
            ]
          },
          "metadata": {
            "tags": []
          },
          "execution_count": 85
        }
      ]
    },
    {
      "cell_type": "markdown",
      "metadata": {
        "id": "ZQbR5LWApZ90"
      },
      "source": [
        "### Getting the Sentiment of a Sentence \n",
        "* One is **positive (`0.85`)** and one is **negative (`-0.6999999999999998`)**, which might explain why the entire `TextBlob`’s `sentiment` was close to **`0.0` (neutral)**"
      ]
    },
    {
      "cell_type": "code",
      "metadata": {
        "id": "jPxKX-vhpZ90",
        "colab": {
          "base_uri": "https://localhost:8080/"
        },
        "outputId": "531f66ac-73dd-4291-898b-55445303801e"
      },
      "source": [
        "for sentence in blob.sentences:\n",
        "    print(sentence.sentiment)"
      ],
      "execution_count": 86,
      "outputs": [
        {
          "output_type": "stream",
          "text": [
            "Sentiment(polarity=0.85, subjectivity=1.0)\n",
            "Sentiment(polarity=-0.6999999999999998, subjectivity=0.6666666666666666)\n"
          ],
          "name": "stdout"
        }
      ]
    },
    {
      "cell_type": "markdown",
      "metadata": {
        "id": "85a8fOSrpZ90"
      },
      "source": [
        "## 12.2.6 Sentiment Analysis with the NaiveBayesAnalyzer "
      ]
    },
    {
      "cell_type": "code",
      "metadata": {
        "id": "-y8WUR34pZ91"
      },
      "source": [
        "from textblob.sentiments import NaiveBayesAnalyzer"
      ],
      "execution_count": 87,
      "outputs": []
    },
    {
      "cell_type": "code",
      "metadata": {
        "id": "FfI0lc-CpZ91"
      },
      "source": [
        "blob = TextBlob(text, analyzer=NaiveBayesAnalyzer())"
      ],
      "execution_count": 88,
      "outputs": []
    },
    {
      "cell_type": "code",
      "metadata": {
        "colab": {
          "base_uri": "https://localhost:8080/"
        },
        "id": "jw9gX-34vpAV",
        "outputId": "ada6ac8f-dbbf-45a2-ca92-031a2549b064"
      },
      "source": [
        "import nltk\r\n",
        "nltk.download('movie_reviews')\r\n"
      ],
      "execution_count": 89,
      "outputs": [
        {
          "output_type": "stream",
          "text": [
            "[nltk_data] Downloading package movie_reviews to /root/nltk_data...\n",
            "[nltk_data]   Package movie_reviews is already up-to-date!\n"
          ],
          "name": "stdout"
        },
        {
          "output_type": "execute_result",
          "data": {
            "text/plain": [
              "True"
            ]
          },
          "metadata": {
            "tags": []
          },
          "execution_count": 89
        }
      ]
    },
    {
      "cell_type": "code",
      "metadata": {
        "id": "lIm-HB51pZ91",
        "colab": {
          "base_uri": "https://localhost:8080/"
        },
        "outputId": "4a172cc5-5a5d-480d-89ce-7ef843631884"
      },
      "source": [
        "blob"
      ],
      "execution_count": 90,
      "outputs": [
        {
          "output_type": "execute_result",
          "data": {
            "text/plain": [
              "TextBlob(\"Today is a beautiful day. Tomorrow looks like bad weather.\")"
            ]
          },
          "metadata": {
            "tags": []
          },
          "execution_count": 90
        }
      ]
    },
    {
      "cell_type": "code",
      "metadata": {
        "id": "XlLV8i3tpZ91",
        "colab": {
          "base_uri": "https://localhost:8080/"
        },
        "outputId": "a4b0f637-a577-4c0c-c292-867957e580a8"
      },
      "source": [
        "blob.sentiment"
      ],
      "execution_count": 91,
      "outputs": [
        {
          "output_type": "execute_result",
          "data": {
            "text/plain": [
              "Sentiment(classification='neg', p_pos=0.47662917962091056, p_neg=0.5233708203790892)"
            ]
          },
          "metadata": {
            "tags": []
          },
          "execution_count": 91
        }
      ]
    },
    {
      "cell_type": "code",
      "metadata": {
        "id": "ndFHHL32pZ92",
        "colab": {
          "base_uri": "https://localhost:8080/"
        },
        "outputId": "c1e5f492-153d-4e00-84ff-6bef5b13f8c7"
      },
      "source": [
        "for sentence in blob.sentences:\n",
        "    print(sentence.sentiment)"
      ],
      "execution_count": 92,
      "outputs": [
        {
          "output_type": "stream",
          "text": [
            "Sentiment(classification='pos', p_pos=0.8117563121751951, p_neg=0.18824368782480477)\n",
            "Sentiment(classification='neg', p_pos=0.174363226578349, p_neg=0.8256367734216521)\n"
          ],
          "name": "stdout"
        }
      ]
    },
    {
      "cell_type": "markdown",
      "metadata": {
        "id": "iwFwVNMvpZ92"
      },
      "source": [
        "## 12.2.7 Language Detection and Translation\n",
        "* **Google Translate**, **Microsoft Bing Translator** and others can translate between scores of languages instantly\n",
        "* Now working on **near-real-time translation**\n",
        "    * Converse in real time with people who do not know your natural language\n",
        "* In the **IBM Watson** presentation, we'll develop a script that does **inter-language translation**"
      ]
    },
    {
      "cell_type": "code",
      "metadata": {
        "id": "fov1K9O_pZ92",
        "colab": {
          "base_uri": "https://localhost:8080/"
        },
        "outputId": "396b42a8-fc3c-42a7-96a8-9d6d39baf978"
      },
      "source": [
        "blob"
      ],
      "execution_count": 93,
      "outputs": [
        {
          "output_type": "execute_result",
          "data": {
            "text/plain": [
              "TextBlob(\"Today is a beautiful day. Tomorrow looks like bad weather.\")"
            ]
          },
          "metadata": {
            "tags": []
          },
          "execution_count": 93
        }
      ]
    },
    {
      "cell_type": "code",
      "metadata": {
        "id": "valJCBsepZ92",
        "colab": {
          "base_uri": "https://localhost:8080/",
          "height": 35
        },
        "outputId": "efd1d980-e031-4f1b-8c3f-c0e766c1acf2"
      },
      "source": [
        "blob.detect_language()"
      ],
      "execution_count": 94,
      "outputs": [
        {
          "output_type": "execute_result",
          "data": {
            "application/vnd.google.colaboratory.intrinsic+json": {
              "type": "string"
            },
            "text/plain": [
              "'en'"
            ]
          },
          "metadata": {
            "tags": []
          },
          "execution_count": 94
        }
      ]
    },
    {
      "cell_type": "markdown",
      "metadata": {
        "id": "F06H8w90pZ92"
      },
      "source": [
        "## 12.2.7 Language Detection and Translation (cont.)"
      ]
    },
    {
      "cell_type": "code",
      "metadata": {
        "id": "oL4JRSlepZ93"
      },
      "source": [
        "spanish = blob.translate(to='es')"
      ],
      "execution_count": 95,
      "outputs": []
    },
    {
      "cell_type": "code",
      "metadata": {
        "id": "9ZKLyIXnpZ93",
        "colab": {
          "base_uri": "https://localhost:8080/"
        },
        "outputId": "0ae6fd10-bfaf-418e-ce22-2381d65fd66f"
      },
      "source": [
        "spanish"
      ],
      "execution_count": 96,
      "outputs": [
        {
          "output_type": "execute_result",
          "data": {
            "text/plain": [
              "TextBlob(\"Hoy es un hermoso dia. Mañana parece mal tiempo.\")"
            ]
          },
          "metadata": {
            "tags": []
          },
          "execution_count": 96
        }
      ]
    },
    {
      "cell_type": "code",
      "metadata": {
        "id": "002I8yZVpZ93",
        "colab": {
          "base_uri": "https://localhost:8080/",
          "height": 35
        },
        "outputId": "8935c405-2079-47f6-83c7-57992a23c678"
      },
      "source": [
        "spanish.detect_language()"
      ],
      "execution_count": 97,
      "outputs": [
        {
          "output_type": "execute_result",
          "data": {
            "application/vnd.google.colaboratory.intrinsic+json": {
              "type": "string"
            },
            "text/plain": [
              "'es'"
            ]
          },
          "metadata": {
            "tags": []
          },
          "execution_count": 97
        }
      ]
    },
    {
      "cell_type": "markdown",
      "metadata": {
        "id": "NbaCife0pZ93"
      },
      "source": [
        "## 12.2.7 Language Detection and Translation (cont.)"
      ]
    },
    {
      "cell_type": "code",
      "metadata": {
        "id": "UMfMS3RRpZ93"
      },
      "source": [
        "chinese = blob.translate(to='zh')"
      ],
      "execution_count": 98,
      "outputs": []
    },
    {
      "cell_type": "code",
      "metadata": {
        "id": "nB1YlTz9pZ94",
        "colab": {
          "base_uri": "https://localhost:8080/"
        },
        "outputId": "28fc35dc-c795-49a0-a823-97f35c6e5c07"
      },
      "source": [
        "chinese"
      ],
      "execution_count": 99,
      "outputs": [
        {
          "output_type": "execute_result",
          "data": {
            "text/plain": [
              "TextBlob(\"今天是美好的一天。明天看起来天气不好。\")"
            ]
          },
          "metadata": {
            "tags": []
          },
          "execution_count": 99
        }
      ]
    },
    {
      "cell_type": "code",
      "metadata": {
        "id": "HLp4pSgTpZ94",
        "colab": {
          "base_uri": "https://localhost:8080/",
          "height": 35
        },
        "outputId": "b2532748-ff2f-498b-cb87-3afc5190788e"
      },
      "source": [
        "chinese.detect_language()"
      ],
      "execution_count": 100,
      "outputs": [
        {
          "output_type": "execute_result",
          "data": {
            "application/vnd.google.colaboratory.intrinsic+json": {
              "type": "string"
            },
            "text/plain": [
              "'zh-CN'"
            ]
          },
          "metadata": {
            "tags": []
          },
          "execution_count": 100
        }
      ]
    },
    {
      "cell_type": "markdown",
      "metadata": {
        "id": "_zkWpDnTpZ94"
      },
      "source": [
        "## 12.2.7 Language Detection and Translation (cont.)\n",
        "* Can **specify a source language** explicitly by passing the `from_lang` keyword argument to the `translate` method\n",
        "\n",
        "> ```python\n",
        "chinese = blob.translate(from_lang='en', to='zh')\n",
        "```\n",
        "\n",
        "* `from_lang` and `to` use [iso-639-1 language codes](https://en.wikipedia.org/wiki/List_of_ISO_639-1_codes)\n",
        "* [Google Translate’s list of supported languages](https://cloud.google.com/translate/docs/languages)"
      ]
    },
    {
      "cell_type": "code",
      "metadata": {
        "id": "WVc_p-0ipZ94",
        "colab": {
          "base_uri": "https://localhost:8080/"
        },
        "outputId": "254f994c-1a5f-42d5-eac2-9e4018aa4611"
      },
      "source": [
        "spanish.translate()"
      ],
      "execution_count": 103,
      "outputs": [
        {
          "output_type": "execute_result",
          "data": {
            "text/plain": [
              "TextBlob(\"Today is a beautiful day. Tomorrow looks like bad weather.\")"
            ]
          },
          "metadata": {
            "tags": []
          },
          "execution_count": 103
        }
      ]
    },
    {
      "cell_type": "code",
      "metadata": {
        "id": "gzI2VbKOpZ94",
        "colab": {
          "base_uri": "https://localhost:8080/"
        },
        "outputId": "7f66d27f-8aa3-41fa-8cc0-43c7a272a4d4"
      },
      "source": [
        "chinese.translate() "
      ],
      "execution_count": 104,
      "outputs": [
        {
          "output_type": "execute_result",
          "data": {
            "text/plain": [
              "TextBlob(\"Today is a beautiful day. It looks bad tomorrow.\")"
            ]
          },
          "metadata": {
            "tags": []
          },
          "execution_count": 104
        }
      ]
    },
    {
      "cell_type": "markdown",
      "metadata": {
        "id": "PwNdKbwipZ95"
      },
      "source": [
        "* **Note the slight difference in the English results.**"
      ]
    },
    {
      "cell_type": "markdown",
      "metadata": {
        "id": "K3oPxXvhpZ95"
      },
      "source": [
        "------\n",
        "&copy;1992&ndash;2020 by Pearson Education, Inc. All Rights Reserved. This content is based on Chapter 5 of the book [**Intro to Python for Computer Science and Data Science: Learning to Program with AI, Big Data and the Cloud**](https://amzn.to/2VvdnxE).\n",
        "\n",
        "DISCLAIMER: The authors and publisher of this book have used their \n",
        "best efforts in preparing the book. These efforts include the \n",
        "development, research, and testing of the theories and programs \n",
        "to determine their effectiveness. The authors and publisher make \n",
        "no warranty of any kind, expressed or implied, with regard to these \n",
        "programs or to the documentation contained in these books. The authors \n",
        "and publisher shall not be liable in any event for incidental or \n",
        "consequential damages in connection with, or arising out of, the \n",
        "furnishing, performance, or use of these programs.                  "
      ]
    }
  ]
}